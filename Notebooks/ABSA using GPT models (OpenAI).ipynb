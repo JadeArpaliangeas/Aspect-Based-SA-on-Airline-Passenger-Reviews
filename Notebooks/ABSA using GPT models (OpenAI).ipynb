{
 "cells": [
  {
   "cell_type": "code",
   "execution_count": null,
   "id": "1dad2bf8-91ec-485a-b545-77228f680f72",
   "metadata": {},
   "outputs": [],
   "source": [
    "import pandas as pd\n",
    "import numpy as np"
   ]
  },
  {
   "cell_type": "code",
   "execution_count": null,
   "id": "ca9b9949-8849-4f30-a839-f5bde3aacc56",
   "metadata": {},
   "outputs": [],
   "source": [
    "key = #add your OpenAI key"
   ]
  },
  {
   "cell_type": "code",
   "execution_count": null,
   "id": "a7609e25-9525-4651-b878-9fd6ad27b94e",
   "metadata": {},
   "outputs": [],
   "source": [
    "#load unlabeled test data\n",
    "test_data = ?"
   ]
  },
  {
   "cell_type": "code",
   "execution_count": null,
   "id": "48a2fb86-f204-481a-b788-9e0be69bb226",
   "metadata": {},
   "outputs": [],
   "source": [
    "reviews = list(test_data['Review'])\n",
    "index_list = #list of corresponding index"
   ]
  },
  {
   "cell_type": "code",
   "execution_count": null,
   "id": "41a9de43-1d53-4001-8414-0ee6847633a9",
   "metadata": {},
   "outputs": [],
   "source": [
    "import openai\n",
    "from openai import OpenAI\n",
    "\n",
    "client = OpenAI(\n",
    "    # This is the default and can be omitted\n",
    "    api_key=key\n",
    ")\n",
    "\n",
    "\n",
    "# Define a list of reviews\n",
    "\n",
    "\n",
    "# Define the aspects you are interested in\n",
    "aspects = ['seat', 'crew flight',\n",
    "       'food and beverages', 'on ground services', 'entertainment', 'cabin comfort',\n",
    "       'boarding & disembarking', 'attendance in case of problems', 'punctuality',\n",
    "       'cancellation', 'onboard service', 'customer service']\n",
    "\n",
    "# Define the function to analyze sentiment for each aspect\n",
    "def analyze_aspects(review, aspects, index):\n",
    "    prompt = f\"Analyze the following review and provide sentiment ('Positive', 'Neutral', 'Negative', 'not mentioned') for each aspect: {', '.join(aspects)}. Review: {review}. Be careful before stating 'not mentioned'.\"\n",
    "    \n",
    "    response = client.chat.completions.create(\n",
    "        model=\"gpt-4\",  # or \"gpt-4\" if you have access to GPT-4\n",
    "        messages=[\n",
    "            {\"role\": \"system\", \"content\": \"Concise and precise\"},\n",
    "            {\"role\": \"user\", \"content\": prompt},\n",
    "        ],\n",
    "        max_tokens=150,\n",
    "        temperature=1,\n",
    "        n=1\n",
    "    )\n",
    "    # Extract the text from the response\n",
    "    sentiment_analysis = response.choices[0].message.content.strip()\n",
    "    \n",
    "    # Parse the sentiment analysis into a dictionary\n",
    "    sentiment_dict = {}\n",
    "    for line in sentiment_analysis.split('\\n'):\n",
    "        if ': ' in line:  # Check if the line contains the ': ' delimiter\n",
    "            aspect, sentiment = line.split(': ', 1)  # Use maxsplit=1 to avoid splitting more than once\n",
    "            sentiment_dict[aspect.strip()] = sentiment.strip()\n",
    "        else:\n",
    "            # Handle the case where the line doesn't have the expected format\n",
    "            print(f\"Unexpected line format: {line}\")\n",
    "    \n",
    "    # If sentiment_dict is empty, return an empty DataFrame with the aspect names as columns\n",
    "    if not sentiment_dict:\n",
    "        df = pd.DataFrame(columns=aspects)\n",
    "    else:\n",
    "        # Convert the dictionary to a DataFrame\n",
    "        df = pd.DataFrame(sentiment_dict, index=[0])\n",
    "\n",
    "    df['Index'] = index\n",
    "    # Replace 'Not mentioned' with NaN\n",
    "    df.replace('not mentioned', np.nan, inplace=True)\n",
    "    \n",
    "    return df\n",
    "\n",
    "\n",
    "# Create an empty list to store each DataFrame\n",
    "df_list = []\n",
    "\n",
    "# Analyze each review and store the resulting DataFrame\n",
    "for index, review in zip(index_list, reviews):\n",
    "    sentiment_df = analyze_aspects(review, aspects, index)\n",
    "    df_list.append(sentiment_df)\n",
    "    print('review n°:', index)\n",
    "    print(f\"Sentiment Analysis: {sentiment_df}\\n\")\n",
    "\n",
    "# Concatenate all DataFrames into one\n",
    "final_df = pd.concat(df_list, ignore_index=True)\n",
    "final_df"
   ]
  },
  {
   "cell_type": "markdown",
   "id": "a2027635-f24f-4ff7-8520-6a454b9db60b",
   "metadata": {},
   "source": [
    "If cleaning is needed:"
   ]
  },
  {
   "cell_type": "code",
   "execution_count": null,
   "id": "b51f8e9b-b3a9-426a-a390-de23bc6c2e0d",
   "metadata": {},
   "outputs": [],
   "source": [
    "# Function to standardize column names\n",
    "def standardize_columns(df):\n",
    "    df.columns = [col.strip().lower().replace(' ', '_').replace('&', 'and').replace('-_','').replace('-','_').replace('/','_') for col in df.columns]\n",
    "    return df\n",
    "\n",
    "df_list2 = [standardize_columns(df) for df in df_list]\n",
    "final_df = pd.concat(df_list2, ignore_index=True)\n",
    "final_df"
   ]
  },
  {
   "cell_type": "markdown",
   "id": "9c861446-13d2-4e64-8be3-0410d2e10bf5",
   "metadata": {},
   "source": [
    "If GPT outputs are not all one the defined categories: get all unique categories values and ask (web) ChatGPT for a mapping dict as below."
   ]
  },
  {
   "cell_type": "code",
   "execution_count": null,
   "id": "3ed1fd5d-9916-4f11-a959-d71ebc398895",
   "metadata": {},
   "outputs": [],
   "source": [
    "# Function to get unique values for each column\n",
    "def get_unique_values(df):\n",
    "    unique_values = {}\n",
    "    for column in df.columns:\n",
    "        # Collecting unique values from each column\n",
    "        unique_values[column] = df[column].unique().tolist()\n",
    "    return unique_values\n",
    "\n",
    "# Applying the function to your DataFrame\n",
    "unique_values = get_unique_values(final_df)\n",
    "unique_values"
   ]
  },
  {
   "cell_type": "code",
   "execution_count": null,
   "id": "f37dfe2b-811b-4c46-a2d6-79cc5623c03e",
   "metadata": {},
   "outputs": [],
   "source": [
    "# Mapping dictionary\n",
    "mapping_dict = {\n",
    "    'Neutral': 'Neutral',\n",
    "    'Neutral,': 'Neutral',\n",
    "    'Neutral (due to communication problems)': 'Neutral',\n",
    "    'Positive': 'Positive',\n",
    "    'Positive,': 'Positive',\n",
    "    'Positive.': 'Positive',\n",
    "    'Positive (based on pleasant personnel)': 'Positive',\n",
    "    'Negative': 'Negative',\n",
    "    'Negative,': 'Negative',\n",
    "    'Negative.': 'Negative',\n",
    "    'Negative (Passenger complained about being booked into Economy Coach at the same price they paid for First Class)': 'Negative',\n",
    "    'Negative (Passenger encountered rudeness and inconsistency from the crew)': 'Negative',\n",
    "    \"Negative (as they don't know Russian)\": 'Negative',\n",
    "    'Negative (Not being attended to upon the San Francisco arrival plus an issue with ticketing agents)': 'Negative',\n",
    "    'Negative (Seat problem)': 'Negative',\n",
    "    'Negative (Departure from Tahiti was late and the Jetbridge at San Francisco had no attendant)': 'Negative',\n",
    "    'Negative (Passenger threatened to be removed from flight for raising safety concerns, inadequate compensation acknowledged)': 'Negative',\n",
    "    'Negative (Significant delay from Tahiti and missing the connecting': 'Negative',\n",
    "    'Negative (speculation based on negative review of food and beverages and inability of attendants to communicate)': 'Negative',\n",
    "    'Not mentioned': 'Not mentioned',\n",
    "    'Not mentioned,': 'Not mentioned',\n",
    "    'Not Mentioned': 'Not mentioned'\n",
    "}\n",
    "# Function to map values\n",
    "def map_values(val):\n",
    "    return mapping_dict.get(val, val)  # Return mapped value if it exists, otherwise return the original value\n",
    "\n",
    "# Apply mapping to all DataFrame values\n",
    "df_mapped = final_df.applymap(map_values)\n",
    "#df_mapped.replace('Not mentioned', np.nan, inplace=True)\n",
    "# Display the transformed DataFrame\n",
    "print(df_mapped)"
   ]
  },
  {
   "cell_type": "markdown",
   "id": "3691e07f-ad54-40af-905a-6884e7441788",
   "metadata": {},
   "source": [
    "save df_mapped of new labeled testing set"
   ]
  }
 ],
 "metadata": {
  "kernelspec": {
   "display_name": "Python 3 (ipykernel)",
   "language": "python",
   "name": "python3"
  },
  "language_info": {
   "codemirror_mode": {
    "name": "ipython",
    "version": 3
   },
   "file_extension": ".py",
   "mimetype": "text/x-python",
   "name": "python",
   "nbconvert_exporter": "python",
   "pygments_lexer": "ipython3",
   "version": "3.11.5"
  }
 },
 "nbformat": 4,
 "nbformat_minor": 5
}
